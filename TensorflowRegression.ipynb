{
 "cells": [
  {
   "cell_type": "code",
   "execution_count": 1,
   "metadata": {},
   "outputs": [],
   "source": [
    "%matplotlib notebook\n",
    "import numpy as np\n",
    "import pandas as pd\n",
    "import seaborn as sns\n",
    "import tensorflow as tf"
   ]
  },
  {
   "cell_type": "code",
   "execution_count": 2,
   "metadata": {},
   "outputs": [],
   "source": [
    "x1 = np.float32(np.random.uniform(low = -10, high = 10, size = 100))\n",
    "x2 = np.float32(np.random.uniform(low = -10, high = 10, size = 100))\n",
    "err = np.float32(np.random.normal(loc = 0, scale = 5, size = 100))"
   ]
  },
  {
   "cell_type": "code",
   "execution_count": 3,
   "metadata": {},
   "outputs": [],
   "source": [
    "y = -40 + 10 * x1 + 20 * x2 + err"
   ]
  },
  {
   "cell_type": "code",
   "execution_count": 4,
   "metadata": {},
   "outputs": [],
   "source": [
    "data = pd.DataFrame({\n",
    "    ('features', 'x1'): x1,\n",
    "    ('features', 'x2'): x2,\n",
    "    ('labels', 'y'): y\n",
    "})"
   ]
  },
  {
   "cell_type": "code",
   "execution_count": 5,
   "metadata": {},
   "outputs": [],
   "source": [
    "tf.reset_default_graph()"
   ]
  },
  {
   "cell_type": "code",
   "execution_count": 6,
   "metadata": {},
   "outputs": [],
   "source": [
    "features, labels = (\n",
    "   tf.data.Dataset.from_tensor_slices((data['features'].values, data['labels'].values))\n",
    "                  .shuffle(buffer_size = 50)\n",
    "                  .repeat()\n",
    "                  .batch(batch_size = 32)\n",
    "                  .make_one_shot_iterator()\n",
    "                  .get_next()\n",
    ")"
   ]
  },
  {
   "cell_type": "code",
   "execution_count": 7,
   "metadata": {},
   "outputs": [],
   "source": [
    "input_shape = features.shape\n",
    "weight = tf.get_variable('weight', shape = [input_shape[1], 1], initializer = tf.random_normal_initializer())\n",
    "bias = tf.get_variable('bias', shape = [1], initializer = tf.random_normal_initializer())\n",
    "predictions = tf.nn.xw_plus_b(features, weight, bias)"
   ]
  },
  {
   "cell_type": "code",
   "execution_count": 8,
   "metadata": {},
   "outputs": [],
   "source": [
    "loss = tf.losses.mean_squared_error(labels = labels, predictions = predictions)"
   ]
  },
  {
   "cell_type": "code",
   "execution_count": 9,
   "metadata": {},
   "outputs": [],
   "source": [
    "optimizer = tf.train.AdamOptimizer(learning_rate = 0.1)\n",
    "train_op = optimizer.minimize(loss, global_step = tf.train.get_or_create_global_step())"
   ]
  },
  {
   "cell_type": "code",
   "execution_count": 10,
   "metadata": {},
   "outputs": [
    {
     "name": "stdout",
     "output_type": "stream",
     "text": [
      "[array([[10.100036],\n",
      "       [20.09031 ]], dtype=float32), array([-39.95981], dtype=float32)]\n"
     ]
    }
   ],
   "source": [
    "with tf.Session() as sess:\n",
    "    sess.run(tf.global_variables_initializer())\n",
    "    for train_idx in range(1000):\n",
    "        sess.run(train_op)\n",
    "    print(sess.run([weight, bias]))"
   ]
  }
 ],
 "metadata": {
  "kernelspec": {
   "display_name": "Environment (conda_tensorflow_p36)",
   "language": "python",
   "name": "conda_tensorflow_p36"
  },
  "language_info": {
   "codemirror_mode": {
    "name": "ipython",
    "version": 3
   },
   "file_extension": ".py",
   "mimetype": "text/x-python",
   "name": "python",
   "nbconvert_exporter": "python",
   "pygments_lexer": "ipython3",
   "version": "3.6.5"
  }
 },
 "nbformat": 4,
 "nbformat_minor": 2
}
